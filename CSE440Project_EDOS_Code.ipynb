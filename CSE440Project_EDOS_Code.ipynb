{
  "cells": [
    {
      "attachments": {},
      "cell_type": "markdown",
      "metadata": {
        "id": "Sdq3bQuOOZxt"
      },
      "source": [
        "## Importing libraries and Installing packages\n"
      ]
    },
    {
      "cell_type": "code",
      "execution_count": null,
      "metadata": {
        "colab": {
          "base_uri": "https://localhost:8080/"
        },
        "id": "FFm6LQU-MewX",
        "outputId": "ad7ed313-f8d8-431a-c431-dc2aa52174f7"
      },
      "outputs": [
        {
          "name": "stdout",
          "output_type": "stream",
          "text": [
            "Mounted at /content/drive\n"
          ]
        }
      ],
      "source": [
        "#from google.colab import drive\n",
        "#drive.mount('/content/drive')"
      ]
    },
    {
      "cell_type": "code",
      "execution_count": null,
      "metadata": {
        "id": "k_D5rh0dMKqG"
      },
      "outputs": [],
      "source": [
        "!pip install tensorflow"
      ]
    },
    {
      "cell_type": "code",
      "execution_count": null,
      "metadata": {
        "id": "UdEISArVM9_s"
      },
      "outputs": [],
      "source": [
        "!pip install keras_preprocessing"
      ]
    },
    {
      "cell_type": "code",
      "execution_count": null,
      "metadata": {
        "id": "W-vpR9QCOn2i"
      },
      "outputs": [],
      "source": [
        "import pandas as pd\n",
        "import numpy as np\n",
        "import re\n",
        "import nltk\n",
        "from nltk.corpus import stopwords\n",
        "from numpy import array\n",
        "import tensorflow as tf\n",
        "from keras.preprocessing.text import one_hot, Tokenizer\n",
        "from keras.models import Sequential\n",
        "from keras.layers.core import Activation, Dropout, Dense\n",
        "from sklearn.model_selection import train_test_split\n",
        "from keras_preprocessing.sequence import pad_sequences\n",
        "from tensorflow.keras.callbacks import EarlyStopping\n",
        "from matplotlib import pyplot as plt\n",
        "import seaborn as sn"
      ]
    },
    {
      "cell_type": "code",
      "execution_count": null,
      "metadata": {
        "colab": {
          "base_uri": "https://localhost:8080/"
        },
        "id": "yFIUiEgZRdCK",
        "outputId": "c886c4f8-497f-46e8-d02d-06ab68a51794"
      },
      "outputs": [
        {
          "name": "stderr",
          "output_type": "stream",
          "text": [
            "[nltk_data] Downloading package stopwords to /root/nltk_data...\n",
            "[nltk_data]   Unzipping corpora/stopwords.zip.\n"
          ]
        },
        {
          "data": {
            "text/plain": [
              "True"
            ]
          },
          "execution_count": 5,
          "metadata": {},
          "output_type": "execute_result"
        }
      ],
      "source": [
        "nltk.download('stopwords')"
      ]
    },
    {
      "attachments": {},
      "cell_type": "markdown",
      "metadata": {
        "id": "q6FO9rxjxHe_"
      },
      "source": [
        "## Loading dataset"
      ]
    },
    {
      "cell_type": "code",
      "execution_count": null,
      "metadata": {
        "colab": {
          "base_uri": "https://localhost:8080/",
          "height": 505
        },
        "id": "sNL6yy_DO0n1",
        "outputId": "1ddf341c-a1bc-41ef-8ba6-b0353e928e17"
      },
      "outputs": [
        {
          "name": "stdout",
          "output_type": "stream",
          "text": [
            "Shape of training data =  (14000, 5)\n"
          ]
        },
        {
          "data": {
            "text/html": [
              "\n",
              "  <div id=\"df-7b8163fd-fabd-4b0d-9479-d398f56be31b\">\n",
              "    <div class=\"colab-df-container\">\n",
              "      <div>\n",
              "<style scoped>\n",
              "    .dataframe tbody tr th:only-of-type {\n",
              "        vertical-align: middle;\n",
              "    }\n",
              "\n",
              "    .dataframe tbody tr th {\n",
              "        vertical-align: top;\n",
              "    }\n",
              "\n",
              "    .dataframe thead th {\n",
              "        text-align: right;\n",
              "    }\n",
              "</style>\n",
              "<table border=\"1\" class=\"dataframe\">\n",
              "  <thead>\n",
              "    <tr style=\"text-align: right;\">\n",
              "      <th></th>\n",
              "      <th>rewire_id</th>\n",
              "      <th>text</th>\n",
              "      <th>label_sexist</th>\n",
              "      <th>label_category</th>\n",
              "      <th>label_vector</th>\n",
              "    </tr>\n",
              "  </thead>\n",
              "  <tbody>\n",
              "    <tr>\n",
              "      <th>7894</th>\n",
              "      <td>sexism2022_english-4647</td>\n",
              "      <td>The problem that was being addressed here was ...</td>\n",
              "      <td>not sexist</td>\n",
              "      <td>none</td>\n",
              "      <td>none</td>\n",
              "    </tr>\n",
              "    <tr>\n",
              "      <th>13108</th>\n",
              "      <td>sexism2022_english-8720</td>\n",
              "      <td>Male feminists are the new anti-gay preachers....</td>\n",
              "      <td>sexist</td>\n",
              "      <td>3. animosity</td>\n",
              "      <td>3.1 casual use of gendered slurs, profanities,...</td>\n",
              "    </tr>\n",
              "    <tr>\n",
              "      <th>6429</th>\n",
              "      <td>sexism2022_english-16927</td>\n",
              "      <td>\"Journalists\" to the rescue! [The internet exp...</td>\n",
              "      <td>not sexist</td>\n",
              "      <td>none</td>\n",
              "      <td>none</td>\n",
              "    </tr>\n",
              "    <tr>\n",
              "      <th>11076</th>\n",
              "      <td>sexism2022_english-5362</td>\n",
              "      <td>Not this shit again Jesus.</td>\n",
              "      <td>not sexist</td>\n",
              "      <td>none</td>\n",
              "      <td>none</td>\n",
              "    </tr>\n",
              "    <tr>\n",
              "      <th>10251</th>\n",
              "      <td>sexism2022_english-19684</td>\n",
              "      <td>Sorry, but \"trans men\" don't exist, just cospl...</td>\n",
              "      <td>not sexist</td>\n",
              "      <td>none</td>\n",
              "      <td>none</td>\n",
              "    </tr>\n",
              "    <tr>\n",
              "      <th>7979</th>\n",
              "      <td>sexism2022_english-18618</td>\n",
              "      <td>hateful fuckn witch bitch</td>\n",
              "      <td>sexist</td>\n",
              "      <td>3. animosity</td>\n",
              "      <td>3.1 casual use of gendered slurs, profanities,...</td>\n",
              "    </tr>\n",
              "    <tr>\n",
              "      <th>11243</th>\n",
              "      <td>sexism2022_english-10677</td>\n",
              "      <td>Jersey girls/boys have annoying accents and st...</td>\n",
              "      <td>not sexist</td>\n",
              "      <td>none</td>\n",
              "      <td>none</td>\n",
              "    </tr>\n",
              "    <tr>\n",
              "      <th>5823</th>\n",
              "      <td>sexism2022_english-17971</td>\n",
              "      <td>It's really sad actually, I've heard about his...</td>\n",
              "      <td>not sexist</td>\n",
              "      <td>none</td>\n",
              "      <td>none</td>\n",
              "    </tr>\n",
              "    <tr>\n",
              "      <th>4615</th>\n",
              "      <td>sexism2022_english-1806</td>\n",
              "      <td>The only \"single moms\" I don't look sideways a...</td>\n",
              "      <td>sexist</td>\n",
              "      <td>2. derogation</td>\n",
              "      <td>2.2 aggressive and emotive attacks</td>\n",
              "    </tr>\n",
              "    <tr>\n",
              "      <th>12055</th>\n",
              "      <td>sexism2022_english-7960</td>\n",
              "      <td>Im being discharged tomorrow! Fuck Yeaaah</td>\n",
              "      <td>not sexist</td>\n",
              "      <td>none</td>\n",
              "      <td>none</td>\n",
              "    </tr>\n",
              "  </tbody>\n",
              "</table>\n",
              "</div>\n",
              "      <button class=\"colab-df-convert\" onclick=\"convertToInteractive('df-7b8163fd-fabd-4b0d-9479-d398f56be31b')\"\n",
              "              title=\"Convert this dataframe to an interactive table.\"\n",
              "              style=\"display:none;\">\n",
              "        \n",
              "  <svg xmlns=\"http://www.w3.org/2000/svg\" height=\"24px\"viewBox=\"0 0 24 24\"\n",
              "       width=\"24px\">\n",
              "    <path d=\"M0 0h24v24H0V0z\" fill=\"none\"/>\n",
              "    <path d=\"M18.56 5.44l.94 2.06.94-2.06 2.06-.94-2.06-.94-.94-2.06-.94 2.06-2.06.94zm-11 1L8.5 8.5l.94-2.06 2.06-.94-2.06-.94L8.5 2.5l-.94 2.06-2.06.94zm10 10l.94 2.06.94-2.06 2.06-.94-2.06-.94-.94-2.06-.94 2.06-2.06.94z\"/><path d=\"M17.41 7.96l-1.37-1.37c-.4-.4-.92-.59-1.43-.59-.52 0-1.04.2-1.43.59L10.3 9.45l-7.72 7.72c-.78.78-.78 2.05 0 2.83L4 21.41c.39.39.9.59 1.41.59.51 0 1.02-.2 1.41-.59l7.78-7.78 2.81-2.81c.8-.78.8-2.07 0-2.86zM5.41 20L4 18.59l7.72-7.72 1.47 1.35L5.41 20z\"/>\n",
              "  </svg>\n",
              "      </button>\n",
              "      \n",
              "  <style>\n",
              "    .colab-df-container {\n",
              "      display:flex;\n",
              "      flex-wrap:wrap;\n",
              "      gap: 12px;\n",
              "    }\n",
              "\n",
              "    .colab-df-convert {\n",
              "      background-color: #E8F0FE;\n",
              "      border: none;\n",
              "      border-radius: 50%;\n",
              "      cursor: pointer;\n",
              "      display: none;\n",
              "      fill: #1967D2;\n",
              "      height: 32px;\n",
              "      padding: 0 0 0 0;\n",
              "      width: 32px;\n",
              "    }\n",
              "\n",
              "    .colab-df-convert:hover {\n",
              "      background-color: #E2EBFA;\n",
              "      box-shadow: 0px 1px 2px rgba(60, 64, 67, 0.3), 0px 1px 3px 1px rgba(60, 64, 67, 0.15);\n",
              "      fill: #174EA6;\n",
              "    }\n",
              "\n",
              "    [theme=dark] .colab-df-convert {\n",
              "      background-color: #3B4455;\n",
              "      fill: #D2E3FC;\n",
              "    }\n",
              "\n",
              "    [theme=dark] .colab-df-convert:hover {\n",
              "      background-color: #434B5C;\n",
              "      box-shadow: 0px 1px 3px 1px rgba(0, 0, 0, 0.15);\n",
              "      filter: drop-shadow(0px 1px 2px rgba(0, 0, 0, 0.3));\n",
              "      fill: #FFFFFF;\n",
              "    }\n",
              "  </style>\n",
              "\n",
              "      <script>\n",
              "        const buttonEl =\n",
              "          document.querySelector('#df-7b8163fd-fabd-4b0d-9479-d398f56be31b button.colab-df-convert');\n",
              "        buttonEl.style.display =\n",
              "          google.colab.kernel.accessAllowed ? 'block' : 'none';\n",
              "\n",
              "        async function convertToInteractive(key) {\n",
              "          const element = document.querySelector('#df-7b8163fd-fabd-4b0d-9479-d398f56be31b');\n",
              "          const dataTable =\n",
              "            await google.colab.kernel.invokeFunction('convertToInteractive',\n",
              "                                                     [key], {});\n",
              "          if (!dataTable) return;\n",
              "\n",
              "          const docLinkHtml = 'Like what you see? Visit the ' +\n",
              "            '<a target=\"_blank\" href=https://colab.research.google.com/notebooks/data_table.ipynb>data table notebook</a>'\n",
              "            + ' to learn more about interactive tables.';\n",
              "          element.innerHTML = '';\n",
              "          dataTable['output_type'] = 'display_data';\n",
              "          await google.colab.output.renderOutput(dataTable, element);\n",
              "          const docLink = document.createElement('div');\n",
              "          docLink.innerHTML = docLinkHtml;\n",
              "          element.appendChild(docLink);\n",
              "        }\n",
              "      </script>\n",
              "    </div>\n",
              "  </div>\n",
              "  "
            ],
            "text/plain": [
              "                      rewire_id  \\\n",
              "7894    sexism2022_english-4647   \n",
              "13108   sexism2022_english-8720   \n",
              "6429   sexism2022_english-16927   \n",
              "11076   sexism2022_english-5362   \n",
              "10251  sexism2022_english-19684   \n",
              "7979   sexism2022_english-18618   \n",
              "11243  sexism2022_english-10677   \n",
              "5823   sexism2022_english-17971   \n",
              "4615    sexism2022_english-1806   \n",
              "12055   sexism2022_english-7960   \n",
              "\n",
              "                                                    text label_sexist  \\\n",
              "7894   The problem that was being addressed here was ...   not sexist   \n",
              "13108  Male feminists are the new anti-gay preachers....       sexist   \n",
              "6429   \"Journalists\" to the rescue! [The internet exp...   not sexist   \n",
              "11076                         Not this shit again Jesus.   not sexist   \n",
              "10251  Sorry, but \"trans men\" don't exist, just cospl...   not sexist   \n",
              "7979                           hateful fuckn witch bitch       sexist   \n",
              "11243  Jersey girls/boys have annoying accents and st...   not sexist   \n",
              "5823   It's really sad actually, I've heard about his...   not sexist   \n",
              "4615   The only \"single moms\" I don't look sideways a...       sexist   \n",
              "12055          Im being discharged tomorrow! Fuck Yeaaah   not sexist   \n",
              "\n",
              "      label_category                                       label_vector  \n",
              "7894            none                                               none  \n",
              "13108   3. animosity  3.1 casual use of gendered slurs, profanities,...  \n",
              "6429            none                                               none  \n",
              "11076           none                                               none  \n",
              "10251           none                                               none  \n",
              "7979    3. animosity  3.1 casual use of gendered slurs, profanities,...  \n",
              "11243           none                                               none  \n",
              "5823            none                                               none  \n",
              "4615   2. derogation                 2.2 aggressive and emotive attacks  \n",
              "12055           none                                               none  "
            ]
          },
          "execution_count": 5,
          "metadata": {},
          "output_type": "execute_result"
        }
      ],
      "source": [
        "sexism_dataset = pd.read_csv(\"train_all_tasks.csv\")\n",
        "print(\"Shape of training data = \", sexism_dataset.shape)\n",
        "sexism_dataset.sample(10)"
      ]
    },
    {
      "cell_type": "code",
      "execution_count": null,
      "metadata": {
        "colab": {
          "base_uri": "https://localhost:8080/"
        },
        "id": "CRIDYlo4O8Va",
        "outputId": "58dc6f7c-d000-4dd8-dcd2-62586f184c6c"
      },
      "outputs": [
        {
          "data": {
            "text/plain": [
              "False"
            ]
          },
          "execution_count": 6,
          "metadata": {},
          "output_type": "execute_result"
        }
      ],
      "source": [
        "# Checking for missing values\n",
        "\n",
        "sexism_dataset.isnull().values.any()"
      ]
    },
    {
      "cell_type": "code",
      "execution_count": null,
      "metadata": {
        "colab": {
          "base_uri": "https://localhost:8080/",
          "height": 467
        },
        "id": "ys4A3cAFPSYI",
        "outputId": "daa2bafc-c0fb-40f8-e718-6d9b805f8c40"
      },
      "outputs": [
        {
          "data": {
            "text/plain": [
              "<Axes: xlabel='label_sexist', ylabel='count'>"
            ]
          },
          "execution_count": 7,
          "metadata": {},
          "output_type": "execute_result"
        },
        {
          "data": {
            "image/png": "[encoded data removed]",
            "text/plain": [
              "<Figure size 640x480 with 1 Axes>"
            ]
          },
          "metadata": {},
          "output_type": "display_data"
        }
      ],
      "source": [
        "# Observing class balance\n",
        "\n",
        "import seaborn as sns\n",
        "sns.countplot(x='label_sexist', data=sexism_dataset)"
      ]
    },
    {
      "attachments": {},
      "cell_type": "markdown",
      "metadata": {
        "id": "IAVIsg26PVZC"
      },
      "source": [
        "## Data Preprocessing"
      ]
    },
    {
      "cell_type": "code",
      "execution_count": null,
      "metadata": {
        "colab": {
          "base_uri": "https://localhost:8080/",
          "height": 363
        },
        "id": "0SCHU-dtnrmz",
        "outputId": "5fc1a771-31c2-4a89-bda4-a456c012fb63"
      },
      "outputs": [
        {
          "data": {
            "text/html": [
              "\n",
              "  <div id=\"df-e712b024-3f1b-4052-8f18-9eacfb6600e4\">\n",
              "    <div class=\"colab-df-container\">\n",
              "      <div>\n",
              "<style scoped>\n",
              "    .dataframe tbody tr th:only-of-type {\n",
              "        vertical-align: middle;\n",
              "    }\n",
              "\n",
              "    .dataframe tbody tr th {\n",
              "        vertical-align: top;\n",
              "    }\n",
              "\n",
              "    .dataframe thead th {\n",
              "        text-align: right;\n",
              "    }\n",
              "</style>\n",
              "<table border=\"1\" class=\"dataframe\">\n",
              "  <thead>\n",
              "    <tr style=\"text-align: right;\">\n",
              "      <th></th>\n",
              "      <th>text</th>\n",
              "      <th>label_sexist</th>\n",
              "    </tr>\n",
              "  </thead>\n",
              "  <tbody>\n",
              "    <tr>\n",
              "      <th>3948</th>\n",
              "      <td>Sounds just like another fucking Moslem to me,...</td>\n",
              "      <td>sexist</td>\n",
              "    </tr>\n",
              "    <tr>\n",
              "      <th>12815</th>\n",
              "      <td>I and a lot of people give a fuck that we had ...</td>\n",
              "      <td>not sexist</td>\n",
              "    </tr>\n",
              "    <tr>\n",
              "      <th>5952</th>\n",
              "      <td>I'm surprised no one has attempted to punch th...</td>\n",
              "      <td>not sexist</td>\n",
              "    </tr>\n",
              "    <tr>\n",
              "      <th>5550</th>\n",
              "      <td>Brother.. she likes you</td>\n",
              "      <td>not sexist</td>\n",
              "    </tr>\n",
              "    <tr>\n",
              "      <th>5873</th>\n",
              "      <td>\"Earn\" women lol. Just buy hookers pls.</td>\n",
              "      <td>not sexist</td>\n",
              "    </tr>\n",
              "    <tr>\n",
              "      <th>8480</th>\n",
              "      <td>a man wouldn't dare complain about a woman rec...</td>\n",
              "      <td>not sexist</td>\n",
              "    </tr>\n",
              "    <tr>\n",
              "      <th>12687</th>\n",
              "      <td>I think a lack of a mom would do the similar t...</td>\n",
              "      <td>not sexist</td>\n",
              "    </tr>\n",
              "    <tr>\n",
              "      <th>5445</th>\n",
              "      <td>What is the point in showing a sketch of her? ...</td>\n",
              "      <td>not sexist</td>\n",
              "    </tr>\n",
              "    <tr>\n",
              "      <th>12464</th>\n",
              "      <td>I was reading that exchange ... and thinking t...</td>\n",
              "      <td>not sexist</td>\n",
              "    </tr>\n",
              "    <tr>\n",
              "      <th>8036</th>\n",
              "      <td>This always reminds me of the woman that will ...</td>\n",
              "      <td>not sexist</td>\n",
              "    </tr>\n",
              "  </tbody>\n",
              "</table>\n",
              "</div>\n",
              "      <button class=\"colab-df-convert\" onclick=\"convertToInteractive('df-e712b024-3f1b-4052-8f18-9eacfb6600e4')\"\n",
              "              title=\"Convert this dataframe to an interactive table.\"\n",
              "              style=\"display:none;\">\n",
              "        \n",
              "  <svg xmlns=\"http://www.w3.org/2000/svg\" height=\"24px\"viewBox=\"0 0 24 24\"\n",
              "       width=\"24px\">\n",
              "    <path d=\"M0 0h24v24H0V0z\" fill=\"none\"/>\n",
              "    <path d=\"M18.56 5.44l.94 2.06.94-2.06 2.06-.94-2.06-.94-.94-2.06-.94 2.06-2.06.94zm-11 1L8.5 8.5l.94-2.06 2.06-.94-2.06-.94L8.5 2.5l-.94 2.06-2.06.94zm10 10l.94 2.06.94-2.06 2.06-.94-2.06-.94-.94-2.06-.94 2.06-2.06.94z\"/><path d=\"M17.41 7.96l-1.37-1.37c-.4-.4-.92-.59-1.43-.59-.52 0-1.04.2-1.43.59L10.3 9.45l-7.72 7.72c-.78.78-.78 2.05 0 2.83L4 21.41c.39.39.9.59 1.41.59.51 0 1.02-.2 1.41-.59l7.78-7.78 2.81-2.81c.8-.78.8-2.07 0-2.86zM5.41 20L4 18.59l7.72-7.72 1.47 1.35L5.41 20z\"/>\n",
              "  </svg>\n",
              "      </button>\n",
              "      \n",
              "  <style>\n",
              "    .colab-df-container {\n",
              "      display:flex;\n",
              "      flex-wrap:wrap;\n",
              "      gap: 12px;\n",
              "    }\n",
              "\n",
              "    .colab-df-convert {\n",
              "      background-color: #E8F0FE;\n",
              "      border: none;\n",
              "      border-radius: 50%;\n",
              "      cursor: pointer;\n",
              "      display: none;\n",
              "      fill: #1967D2;\n",
              "      height: 32px;\n",
              "      padding: 0 0 0 0;\n",
              "      width: 32px;\n",
              "    }\n",
              "\n",
              "    .colab-df-convert:hover {\n",
              "      background-color: #E2EBFA;\n",
              "      box-shadow: 0px 1px 2px rgba(60, 64, 67, 0.3), 0px 1px 3px 1px rgba(60, 64, 67, 0.15);\n",
              "      fill: #174EA6;\n",
              "    }\n",
              "\n",
              "    [theme=dark] .colab-df-convert {\n",
              "      background-color: #3B4455;\n",
              "      fill: #D2E3FC;\n",
              "    }\n",
              "\n",
              "    [theme=dark] .colab-df-convert:hover {\n",
              "      background-color: #434B5C;\n",
              "      box-shadow: 0px 1px 3px 1px rgba(0, 0, 0, 0.15);\n",
              "      filter: drop-shadow(0px 1px 2px rgba(0, 0, 0, 0.3));\n",
              "      fill: #FFFFFF;\n",
              "    }\n",
              "  </style>\n",
              "\n",
              "      <script>\n",
              "        const buttonEl =\n",
              "          document.querySelector('#df-e712b024-3f1b-4052-8f18-9eacfb6600e4 button.colab-df-convert');\n",
              "        buttonEl.style.display =\n",
              "          google.colab.kernel.accessAllowed ? 'block' : 'none';\n",
              "\n",
              "        async function convertToInteractive(key) {\n",
              "          const element = document.querySelector('#df-e712b024-3f1b-4052-8f18-9eacfb6600e4');\n",
              "          const dataTable =\n",
              "            await google.colab.kernel.invokeFunction('convertToInteractive',\n",
              "                                                     [key], {});\n",
              "          if (!dataTable) return;\n",
              "\n",
              "          const docLinkHtml = 'Like what you see? Visit the ' +\n",
              "            '<a target=\"_blank\" href=https://colab.research.google.com/notebooks/data_table.ipynb>data table notebook</a>'\n",
              "            + ' to learn more about interactive tables.';\n",
              "          element.innerHTML = '';\n",
              "          dataTable['output_type'] = 'display_data';\n",
              "          await google.colab.output.renderOutput(dataTable, element);\n",
              "          const docLink = document.createElement('div');\n",
              "          docLink.innerHTML = docLinkHtml;\n",
              "          element.appendChild(docLink);\n",
              "        }\n",
              "      </script>\n",
              "    </div>\n",
              "  </div>\n",
              "  "
            ],
            "text/plain": [
              "                                                    text label_sexist\n",
              "3948   Sounds just like another fucking Moslem to me,...       sexist\n",
              "12815  I and a lot of people give a fuck that we had ...   not sexist\n",
              "5952   I'm surprised no one has attempted to punch th...   not sexist\n",
              "5550                             Brother.. she likes you   not sexist\n",
              "5873             \"Earn\" women lol. Just buy hookers pls.   not sexist\n",
              "8480   a man wouldn't dare complain about a woman rec...   not sexist\n",
              "12687  I think a lack of a mom would do the similar t...   not sexist\n",
              "5445   What is the point in showing a sketch of her? ...   not sexist\n",
              "12464  I was reading that exchange ... and thinking t...   not sexist\n",
              "8036   This always reminds me of the woman that will ...   not sexist"
            ]
          },
          "execution_count": 9,
          "metadata": {},
          "output_type": "execute_result"
        }
      ],
      "source": [
        "# Dropping all columns except text and label_sexist\n",
        "\n",
        "sexism_dataset=sexism_dataset.drop(['rewire_id','label_category', 'label_vector'], axis=1)\n",
        "sexism_dataset.sample(10)"
      ]
    },
    {
      "cell_type": "code",
      "execution_count": null,
      "metadata": {
        "colab": {
          "base_uri": "https://localhost:8080/",
          "height": 363
        },
        "id": "QBuD9E20PZDb",
        "outputId": "879cd73e-8ee3-477b-fbe5-5623086f4f30"
      },
      "outputs": [
        {
          "data": {
            "text/html": [
              "\n",
              "  <div id=\"df-b66eb033-1892-46b0-aec0-aeb0baaec46b\">\n",
              "    <div class=\"colab-df-container\">\n",
              "      <div>\n",
              "<style scoped>\n",
              "    .dataframe tbody tr th:only-of-type {\n",
              "        vertical-align: middle;\n",
              "    }\n",
              "\n",
              "    .dataframe tbody tr th {\n",
              "        vertical-align: top;\n",
              "    }\n",
              "\n",
              "    .dataframe thead th {\n",
              "        text-align: right;\n",
              "    }\n",
              "</style>\n",
              "<table border=\"1\" class=\"dataframe\">\n",
              "  <thead>\n",
              "    <tr style=\"text-align: right;\">\n",
              "      <th></th>\n",
              "      <th>text</th>\n",
              "      <th>label_sexist</th>\n",
              "      <th>cleaned_text</th>\n",
              "    </tr>\n",
              "  </thead>\n",
              "  <tbody>\n",
              "    <tr>\n",
              "      <th>13836</th>\n",
              "      <td>female egg donors are allowed to be uggo as fu...</td>\n",
              "      <td>sexist</td>\n",
              "      <td>female egg donors are allowed to be uggo as fu...</td>\n",
              "    </tr>\n",
              "    <tr>\n",
              "      <th>13607</th>\n",
              "      <td>Good question, probably thots in training... i...</td>\n",
              "      <td>sexist</td>\n",
              "      <td>good question probably thots in training if we...</td>\n",
              "    </tr>\n",
              "    <tr>\n",
              "      <th>11906</th>\n",
              "      <td>Have you asked it? Have you? Typical huMAN.</td>\n",
              "      <td>not sexist</td>\n",
              "      <td>have you asked it have you typical human</td>\n",
              "    </tr>\n",
              "    <tr>\n",
              "      <th>2186</th>\n",
              "      <td>Behind every great man is a great woman. And t...</td>\n",
              "      <td>sexist</td>\n",
              "      <td>behind every great man is great woman and that...</td>\n",
              "    </tr>\n",
              "    <tr>\n",
              "      <th>1133</th>\n",
              "      <td>You mean she falls in love with someone she fi...</td>\n",
              "      <td>not sexist</td>\n",
              "      <td>you mean she falls in love with someone she fi...</td>\n",
              "    </tr>\n",
              "    <tr>\n",
              "      <th>8011</th>\n",
              "      <td>What other books you can suggest that made an ...</td>\n",
              "      <td>not sexist</td>\n",
              "      <td>what other books you can suggest that made an ...</td>\n",
              "    </tr>\n",
              "    <tr>\n",
              "      <th>4632</th>\n",
              "      <td>A woman forces Larry to dance and tries to dro...</td>\n",
              "      <td>not sexist</td>\n",
              "      <td>a woman forces larry to dance and tries to dro...</td>\n",
              "    </tr>\n",
              "    <tr>\n",
              "      <th>5010</th>\n",
              "      <td>DiScRiMiNaTiOn</td>\n",
              "      <td>not sexist</td>\n",
              "      <td>discrimination</td>\n",
              "    </tr>\n",
              "    <tr>\n",
              "      <th>11238</th>\n",
              "      <td>The privileges they'd get with having a captiv...</td>\n",
              "      <td>not sexist</td>\n",
              "      <td>the privileges they get with having captive wi...</td>\n",
              "    </tr>\n",
              "    <tr>\n",
              "      <th>4394</th>\n",
              "      <td>Talk to a girl as if she isn't a potential mat...</td>\n",
              "      <td>sexist</td>\n",
              "      <td>talk to girl as if she isn a potential mate th...</td>\n",
              "    </tr>\n",
              "  </tbody>\n",
              "</table>\n",
              "</div>\n",
              "      <button class=\"colab-df-convert\" onclick=\"convertToInteractive('df-b66eb033-1892-46b0-aec0-aeb0baaec46b')\"\n",
              "              title=\"Convert this dataframe to an interactive table.\"\n",
              "              style=\"display:none;\">\n",
              "        \n",
              "  <svg xmlns=\"http://www.w3.org/2000/svg\" height=\"24px\"viewBox=\"0 0 24 24\"\n",
              "       width=\"24px\">\n",
              "    <path d=\"M0 0h24v24H0V0z\" fill=\"none\"/>\n",
              "    <path d=\"M18.56 5.44l.94 2.06.94-2.06 2.06-.94-2.06-.94-.94-2.06-.94 2.06-2.06.94zm-11 1L8.5 8.5l.94-2.06 2.06-.94-2.06-.94L8.5 2.5l-.94 2.06-2.06.94zm10 10l.94 2.06.94-2.06 2.06-.94-2.06-.94-.94-2.06-.94 2.06-2.06.94z\"/><path d=\"M17.41 7.96l-1.37-1.37c-.4-.4-.92-.59-1.43-.59-.52 0-1.04.2-1.43.59L10.3 9.45l-7.72 7.72c-.78.78-.78 2.05 0 2.83L4 21.41c.39.39.9.59 1.41.59.51 0 1.02-.2 1.41-.59l7.78-7.78 2.81-2.81c.8-.78.8-2.07 0-2.86zM5.41 20L4 18.59l7.72-7.72 1.47 1.35L5.41 20z\"/>\n",
              "  </svg>\n",
              "      </button>\n",
              "      \n",
              "  <style>\n",
              "    .colab-df-container {\n",
              "      display:flex;\n",
              "      flex-wrap:wrap;\n",
              "      gap: 12px;\n",
              "    }\n",
              "\n",
              "    .colab-df-convert {\n",
              "      background-color: #E8F0FE;\n",
              "      border: none;\n",
              "      border-radius: 50%;\n",
              "      cursor: pointer;\n",
              "      display: none;\n",
              "      fill: #1967D2;\n",
              "      height: 32px;\n",
              "      padding: 0 0 0 0;\n",
              "      width: 32px;\n",
              "    }\n",
              "\n",
              "    .colab-df-convert:hover {\n",
              "      background-color: #E2EBFA;\n",
              "      box-shadow: 0px 1px 2px rgba(60, 64, 67, 0.3), 0px 1px 3px 1px rgba(60, 64, 67, 0.15);\n",
              "      fill: #174EA6;\n",
              "    }\n",
              "\n",
              "    [theme=dark] .colab-df-convert {\n",
              "      background-color: #3B4455;\n",
              "      fill: #D2E3FC;\n",
              "    }\n",
              "\n",
              "    [theme=dark] .colab-df-convert:hover {\n",
              "      background-color: #434B5C;\n",
              "      box-shadow: 0px 1px 3px 1px rgba(0, 0, 0, 0.15);\n",
              "      filter: drop-shadow(0px 1px 2px rgba(0, 0, 0, 0.3));\n",
              "      fill: #FFFFFF;\n",
              "    }\n",
              "  </style>\n",
              "\n",
              "      <script>\n",
              "        const buttonEl =\n",
              "          document.querySelector('#df-b66eb033-1892-46b0-aec0-aeb0baaec46b button.colab-df-convert');\n",
              "        buttonEl.style.display =\n",
              "          google.colab.kernel.accessAllowed ? 'block' : 'none';\n",
              "\n",
              "        async function convertToInteractive(key) {\n",
              "          const element = document.querySelector('#df-b66eb033-1892-46b0-aec0-aeb0baaec46b');\n",
              "          const dataTable =\n",
              "            await google.colab.kernel.invokeFunction('convertToInteractive',\n",
              "                                                     [key], {});\n",
              "          if (!dataTable) return;\n",
              "\n",
              "          const docLinkHtml = 'Like what you see? Visit the ' +\n",
              "            '<a target=\"_blank\" href=https://colab.research.google.com/notebooks/data_table.ipynb>data table notebook</a>'\n",
              "            + ' to learn more about interactive tables.';\n",
              "          element.innerHTML = '';\n",
              "          dataTable['output_type'] = 'display_data';\n",
              "          await google.colab.output.renderOutput(dataTable, element);\n",
              "          const docLink = document.createElement('div');\n",
              "          docLink.innerHTML = docLinkHtml;\n",
              "          element.appendChild(docLink);\n",
              "        }\n",
              "      </script>\n",
              "    </div>\n",
              "  </div>\n",
              "  "
            ],
            "text/plain": [
              "                                                    text label_sexist  \\\n",
              "13836  female egg donors are allowed to be uggo as fu...       sexist   \n",
              "13607  Good question, probably thots in training... i...       sexist   \n",
              "11906        Have you asked it? Have you? Typical huMAN.   not sexist   \n",
              "2186   Behind every great man is a great woman. And t...       sexist   \n",
              "1133   You mean she falls in love with someone she fi...   not sexist   \n",
              "8011   What other books you can suggest that made an ...   not sexist   \n",
              "4632   A woman forces Larry to dance and tries to dro...   not sexist   \n",
              "5010                                      DiScRiMiNaTiOn   not sexist   \n",
              "11238  The privileges they'd get with having a captiv...   not sexist   \n",
              "4394   Talk to a girl as if she isn't a potential mat...       sexist   \n",
              "\n",
              "                                            cleaned_text  \n",
              "13836  female egg donors are allowed to be uggo as fu...  \n",
              "13607  good question probably thots in training if we...  \n",
              "11906          have you asked it have you typical human   \n",
              "2186   behind every great man is great woman and that...  \n",
              "1133   you mean she falls in love with someone she fi...  \n",
              "8011   what other books you can suggest that made an ...  \n",
              "4632   a woman forces larry to dance and tries to dro...  \n",
              "5010                                      discrimination  \n",
              "11238  the privileges they get with having captive wi...  \n",
              "4394   talk to girl as if she isn a potential mate th...  "
            ]
          },
          "execution_count": 10,
          "metadata": {},
          "output_type": "execute_result"
        }
      ],
      "source": [
        "# Cleaning the data and remmoving unnecessary stuff\n",
        "\n",
        "def preprocess_text(sen):\n",
        "\n",
        "    # Lowercasing sentence\n",
        "    sentence = sen.lower()\n",
        "\n",
        "    # Removing html tags\n",
        "    TAG_RE = re.compile(r'<[^>]+>')\n",
        "    sentence = TAG_RE.sub('', sentence)\n",
        "\n",
        "    # Removing punctuations and numbers\n",
        "    sentence = re.sub('[^a-zA-Z]', ' ', sentence)\n",
        "\n",
        "    # Removing single character \n",
        "    sentence = re.sub(r\"\\s+[a-zA-Z]\\s+\", ' ', sentence) \n",
        "\n",
        "    # Removing multiple spaces\n",
        "    sentence = re.sub(r'\\s+', ' ', sentence)  \n",
        "\n",
        "    # Removing Stopwords\n",
        "    # pattern = re.compile(r'\\b(' + r'|'.join(stopwords.words('english')) + r')\\b\\s*')\n",
        "    # sentence = pattern.sub('', sentence)\n",
        "\n",
        "    return sentence\n",
        "\n",
        "sexism_dataset['cleaned_text'] = sexism_dataset['text'].apply(preprocess_text)  \n",
        "sexism_dataset.sample(10)"
      ]
    },
    {
      "cell_type": "code",
      "execution_count": null,
      "metadata": {
        "colab": {
          "base_uri": "https://localhost:8080/",
          "height": 363
        },
        "id": "-EKC4DJTQKsB",
        "outputId": "e00f11b8-fe78-4bf1-d181-527870bdf8d0"
      },
      "outputs": [
        {
          "data": {
            "text/html": [
              "\n",
              "  <div id=\"df-cae7b812-3423-49f1-9e54-3ee232da6e0b\">\n",
              "    <div class=\"colab-df-container\">\n",
              "      <div>\n",
              "<style scoped>\n",
              "    .dataframe tbody tr th:only-of-type {\n",
              "        vertical-align: middle;\n",
              "    }\n",
              "\n",
              "    .dataframe tbody tr th {\n",
              "        vertical-align: top;\n",
              "    }\n",
              "\n",
              "    .dataframe thead th {\n",
              "        text-align: right;\n",
              "    }\n",
              "</style>\n",
              "<table border=\"1\" class=\"dataframe\">\n",
              "  <thead>\n",
              "    <tr style=\"text-align: right;\">\n",
              "      <th></th>\n",
              "      <th>text</th>\n",
              "      <th>label_sexist</th>\n",
              "      <th>cleaned_text</th>\n",
              "      <th>binary_label_sexist</th>\n",
              "    </tr>\n",
              "  </thead>\n",
              "  <tbody>\n",
              "    <tr>\n",
              "      <th>5289</th>\n",
              "      <td>Yes, this will certainly bring down Trump.</td>\n",
              "      <td>not sexist</td>\n",
              "      <td>yes this will certainly bring down trump</td>\n",
              "      <td>0</td>\n",
              "    </tr>\n",
              "    <tr>\n",
              "      <th>2374</th>\n",
              "      <td>all the barren 40-something white cat ladies m...</td>\n",
              "      <td>sexist</td>\n",
              "      <td>all the barren something white cat ladies must...</td>\n",
              "      <td>1</td>\n",
              "    </tr>\n",
              "    <tr>\n",
              "      <th>4994</th>\n",
              "      <td>so your mom's a janitor?</td>\n",
              "      <td>not sexist</td>\n",
              "      <td>so your mom a janitor</td>\n",
              "      <td>0</td>\n",
              "    </tr>\n",
              "    <tr>\n",
              "      <th>2775</th>\n",
              "      <td>[USER] That's the funniest shit I've ever read...</td>\n",
              "      <td>not sexist</td>\n",
              "      <td>user that the funniest shit ve ever read and ...</td>\n",
              "      <td>0</td>\n",
              "    </tr>\n",
              "    <tr>\n",
              "      <th>12457</th>\n",
              "      <td>Someone please take this broad and stick her i...</td>\n",
              "      <td>sexist</td>\n",
              "      <td>someone please take this broad and stick her i...</td>\n",
              "      <td>1</td>\n",
              "    </tr>\n",
              "    <tr>\n",
              "      <th>1432</th>\n",
              "      <td>Another executive order. Another assault on th...</td>\n",
              "      <td>not sexist</td>\n",
              "      <td>another executive order another assault on the...</td>\n",
              "      <td>0</td>\n",
              "    </tr>\n",
              "    <tr>\n",
              "      <th>13060</th>\n",
              "      <td>^ \"OP is lying about son's suicide and iz bitt...</td>\n",
              "      <td>not sexist</td>\n",
              "      <td>op is lying about son suicide and iz bitter n...</td>\n",
              "      <td>0</td>\n",
              "    </tr>\n",
              "    <tr>\n",
              "      <th>1863</th>\n",
              "      <td>She is a loon Putin should turn up at number 1...</td>\n",
              "      <td>sexist</td>\n",
              "      <td>she is loon putin should turn up at number and...</td>\n",
              "      <td>1</td>\n",
              "    </tr>\n",
              "    <tr>\n",
              "      <th>5611</th>\n",
              "      <td>Realise that she thinks of you as an acquainta...</td>\n",
              "      <td>not sexist</td>\n",
              "      <td>realise that she thinks of you as an acquainta...</td>\n",
              "      <td>0</td>\n",
              "    </tr>\n",
              "    <tr>\n",
              "      <th>13088</th>\n",
              "      <td>He should bang his girlfriend.</td>\n",
              "      <td>not sexist</td>\n",
              "      <td>he should bang his girlfriend</td>\n",
              "      <td>0</td>\n",
              "    </tr>\n",
              "  </tbody>\n",
              "</table>\n",
              "</div>\n",
              "      <button class=\"colab-df-convert\" onclick=\"convertToInteractive('df-cae7b812-3423-49f1-9e54-3ee232da6e0b')\"\n",
              "              title=\"Convert this dataframe to an interactive table.\"\n",
              "              style=\"display:none;\">\n",
              "        \n",
              "  <svg xmlns=\"http://www.w3.org/2000/svg\" height=\"24px\"viewBox=\"0 0 24 24\"\n",
              "       width=\"24px\">\n",
              "    <path d=\"M0 0h24v24H0V0z\" fill=\"none\"/>\n",
              "    <path d=\"M18.56 5.44l.94 2.06.94-2.06 2.06-.94-2.06-.94-.94-2.06-.94 2.06-2.06.94zm-11 1L8.5 8.5l.94-2.06 2.06-.94-2.06-.94L8.5 2.5l-.94 2.06-2.06.94zm10 10l.94 2.06.94-2.06 2.06-.94-2.06-.94-.94-2.06-.94 2.06-2.06.94z\"/><path d=\"M17.41 7.96l-1.37-1.37c-.4-.4-.92-.59-1.43-.59-.52 0-1.04.2-1.43.59L10.3 9.45l-7.72 7.72c-.78.78-.78 2.05 0 2.83L4 21.41c.39.39.9.59 1.41.59.51 0 1.02-.2 1.41-.59l7.78-7.78 2.81-2.81c.8-.78.8-2.07 0-2.86zM5.41 20L4 18.59l7.72-7.72 1.47 1.35L5.41 20z\"/>\n",
              "  </svg>\n",
              "      </button>\n",
              "      \n",
              "  <style>\n",
              "    .colab-df-container {\n",
              "      display:flex;\n",
              "      flex-wrap:wrap;\n",
              "      gap: 12px;\n",
              "    }\n",
              "\n",
              "    .colab-df-convert {\n",
              "      background-color: #E8F0FE;\n",
              "      border: none;\n",
              "      border-radius: 50%;\n",
              "      cursor: pointer;\n",
              "      display: none;\n",
              "      fill: #1967D2;\n",
              "      height: 32px;\n",
              "      padding: 0 0 0 0;\n",
              "      width: 32px;\n",
              "    }\n",
              "\n",
              "    .colab-df-convert:hover {\n",
              "      background-color: #E2EBFA;\n",
              "      box-shadow: 0px 1px 2px rgba(60, 64, 67, 0.3), 0px 1px 3px 1px rgba(60, 64, 67, 0.15);\n",
              "      fill: #174EA6;\n",
              "    }\n",
              "\n",
              "    [theme=dark] .colab-df-convert {\n",
              "      background-color: #3B4455;\n",
              "      fill: #D2E3FC;\n",
              "    }\n",
              "\n",
              "    [theme=dark] .colab-df-convert:hover {\n",
              "      background-color: #434B5C;\n",
              "      box-shadow: 0px 1px 3px 1px rgba(0, 0, 0, 0.15);\n",
              "      filter: drop-shadow(0px 1px 2px rgba(0, 0, 0, 0.3));\n",
              "      fill: #FFFFFF;\n",
              "    }\n",
              "  </style>\n",
              "\n",
              "      <script>\n",
              "        const buttonEl =\n",
              "          document.querySelector('#df-cae7b812-3423-49f1-9e54-3ee232da6e0b button.colab-df-convert');\n",
              "        buttonEl.style.display =\n",
              "          google.colab.kernel.accessAllowed ? 'block' : 'none';\n",
              "\n",
              "        async function convertToInteractive(key) {\n",
              "          const element = document.querySelector('#df-cae7b812-3423-49f1-9e54-3ee232da6e0b');\n",
              "          const dataTable =\n",
              "            await google.colab.kernel.invokeFunction('convertToInteractive',\n",
              "                                                     [key], {});\n",
              "          if (!dataTable) return;\n",
              "\n",
              "          const docLinkHtml = 'Like what you see? Visit the ' +\n",
              "            '<a target=\"_blank\" href=https://colab.research.google.com/notebooks/data_table.ipynb>data table notebook</a>'\n",
              "            + ' to learn more about interactive tables.';\n",
              "          element.innerHTML = '';\n",
              "          dataTable['output_type'] = 'display_data';\n",
              "          await google.colab.output.renderOutput(dataTable, element);\n",
              "          const docLink = document.createElement('div');\n",
              "          docLink.innerHTML = docLinkHtml;\n",
              "          element.appendChild(docLink);\n",
              "        }\n",
              "      </script>\n",
              "    </div>\n",
              "  </div>\n",
              "  "
            ],
            "text/plain": [
              "                                                    text label_sexist  \\\n",
              "5289          Yes, this will certainly bring down Trump.   not sexist   \n",
              "2374   all the barren 40-something white cat ladies m...       sexist   \n",
              "4994                            so your mom's a janitor?   not sexist   \n",
              "2775   [USER] That's the funniest shit I've ever read...   not sexist   \n",
              "12457  Someone please take this broad and stick her i...       sexist   \n",
              "1432   Another executive order. Another assault on th...   not sexist   \n",
              "13060  ^ \"OP is lying about son's suicide and iz bitt...   not sexist   \n",
              "1863   She is a loon Putin should turn up at number 1...       sexist   \n",
              "5611   Realise that she thinks of you as an acquainta...   not sexist   \n",
              "13088                     He should bang his girlfriend.   not sexist   \n",
              "\n",
              "                                            cleaned_text  binary_label_sexist  \n",
              "5289           yes this will certainly bring down trump                     0  \n",
              "2374   all the barren something white cat ladies must...                    1  \n",
              "4994                              so your mom a janitor                     0  \n",
              "2775    user that the funniest shit ve ever read and ...                    0  \n",
              "12457  someone please take this broad and stick her i...                    1  \n",
              "1432   another executive order another assault on the...                    0  \n",
              "13060   op is lying about son suicide and iz bitter n...                    0  \n",
              "1863   she is loon putin should turn up at number and...                    1  \n",
              "5611   realise that she thinks of you as an acquainta...                    0  \n",
              "13088                     he should bang his girlfriend                     0  "
            ]
          },
          "execution_count": 11,
          "metadata": {},
          "output_type": "execute_result"
        }
      ],
      "source": [
        "# Label Binarization -> sexist=1, not sexist=0\n",
        "\n",
        "sexism_dataset['binary_label_sexist']=sexism_dataset['label_sexist'].apply(lambda x: 1 if x=='sexist' else 0)\n",
        "sexism_dataset.sample(10)"
      ]
    },
    {
      "cell_type": "code",
      "execution_count": null,
      "metadata": {},
      "outputs": [],
      "source": [
        "# Word Frequency Analysis\n",
        "\n",
        "# Tokenize the text\n",
        "tokenizer = Tokenizer()\n",
        "tokenizer.fit_on_texts(sexism_dataset['cleaned_text'])\n",
        "word_counts = tokenizer.word_counts\n",
        "\n",
        "# Remove stop words\n",
        "stop_words = set(stopwords.words('english'))\n",
        "word_counts = {word: count for word, count in word_counts.items() if word not in stop_words}\n",
        "\n",
        "# Sort the words by frequency\n",
        "sorted_words = sorted(word_counts.items(), key=lambda x: x[1], reverse=True)\n",
        "\n",
        "# Extract the top words and their frequencies\n",
        "top_words = sorted_words[:10]\n",
        "word_labels = [word[0] for word in top_words]\n",
        "word_freqs = [word[1] for word in top_words]\n",
        "\n",
        "# Visualize the results\n",
        "plt.bar(word_labels, word_freqs)\n",
        "plt.xlabel('Word')\n",
        "plt.ylabel('Frequency')\n",
        "plt.title('Top 10 Words by Frequency')\n",
        "plt.show()"
      ]
    },
    {
      "cell_type": "code",
      "execution_count": null,
      "metadata": {
        "id": "LJZ7NxEQX5gC"
      },
      "outputs": [],
      "source": [
        "# Splitting our dataset into train(70%), val(15%) and test(15%)\n",
        "\n",
        "X_trainval, X_test, y_trainval, y_test = train_test_split(sexism_dataset['cleaned_text'], sexism_dataset['binary_label_sexist'], test_size=0.15, random_state=42)\n",
        "X_train, X_val, y_train, y_val = train_test_split(X_trainval, y_trainval, test_size=0.176, random_state=42)"
      ]
    },
    {
      "cell_type": "code",
      "execution_count": null,
      "metadata": {
        "colab": {
          "base_uri": "https://localhost:8080/"
        },
        "id": "5-li6_2uYRxX",
        "outputId": "99a9adf2-0323-4e31-f36f-068999d9da46"
      },
      "outputs": [
        {
          "name": "stdout",
          "output_type": "stream",
          "text": [
            "Training set proportion: 0.70\n",
            "Validation set proportion: 0.15\n",
            "Test set proportion: 0.15\n"
          ]
        }
      ],
      "source": [
        "# Calculate the proportions of each set\n",
        "\n",
        "train_prop = len(X_train) / len(sexism_dataset['cleaned_text'])\n",
        "val_prop = len(X_val) / len(sexism_dataset['cleaned_text'])\n",
        "test_prop = len(X_test) / len(sexism_dataset['cleaned_text'])\n",
        "\n",
        "# Print the proportions\n",
        "print(\"Training set proportion: {:.2f}\".format(train_prop))\n",
        "print(\"Validation set proportion: {:.2f}\".format(val_prop))\n",
        "print(\"Test set proportion: {:.2f}\".format(test_prop))"
      ]
    },
    {
      "attachments": {},
      "cell_type": "markdown",
      "metadata": {
        "id": "FsF3k9QbQc5q"
      },
      "source": [
        "## Preparing embedding layer"
      ]
    },
    {
      "cell_type": "code",
      "execution_count": null,
      "metadata": {
        "id": "kZ5kWzGKeAgc"
      },
      "outputs": [],
      "source": [
        "# Embedding layer expects the words to be in numeric form \n",
        "# Using Tokenizer function from keras.preprocessing.text library\n",
        "# Method fit_on_text trains the tokenizer \n",
        "# Method texts_to_sequences converts sentences to their numeric form\n",
        "\n",
        "word_tokenizer = Tokenizer()\n",
        "word_tokenizer.fit_on_texts(X_train)\n",
        "\n",
        "X_train = word_tokenizer.texts_to_sequences(X_train)\n",
        "X_val = word_tokenizer.texts_to_sequences(X_val)\n",
        "X_test = word_tokenizer.texts_to_sequences(X_test)"
      ]
    },
    {
      "cell_type": "code",
      "execution_count": null,
      "metadata": {
        "colab": {
          "base_uri": "https://localhost:8080/"
        },
        "id": "vn-Rj21reKVm",
        "outputId": "61f30f95-8f8f-40ad-f3a7-ff3d73cc268d"
      },
      "outputs": [
        {
          "data": {
            "text/plain": [
              "17093"
            ]
          },
          "execution_count": 15,
          "metadata": {},
          "output_type": "execute_result"
        }
      ],
      "source": [
        "# Adding 1 to store dimensions for words for which no pretrained word embeddings exist\n",
        "\n",
        "vocab_length = len(word_tokenizer.word_index) + 1\n",
        "vocab_length  #number of unique words"
      ]
    },
    {
      "cell_type": "code",
      "execution_count": null,
      "metadata": {
        "id": "9-QqBAR0hz22"
      },
      "outputs": [],
      "source": [
        "# Padding all comment sentences to fixed length 100\n",
        "\n",
        "maxlen = 100\n",
        "\n",
        "X_train = pad_sequences(X_train, padding='post', maxlen=maxlen)\n",
        "X_val = pad_sequences(X_val, padding='post', maxlen=maxlen)\n",
        "X_test = pad_sequences(X_test, padding='post', maxlen=maxlen)"
      ]
    },
    {
      "cell_type": "code",
      "execution_count": null,
      "metadata": {
        "id": "VH4uFszlRGPk"
      },
      "outputs": [],
      "source": [
        "# Load GloVe word embeddings and create an Embeddings Dictionary\n",
        "\n",
        "from numpy import asarray\n",
        "from numpy import zeros\n",
        "\n",
        "embeddings_dictionary = dict()\n",
        "glove_file = open('glove.6B.100d.txt', encoding=\"utf8\")\n",
        "\n",
        "for line in glove_file:\n",
        "    records = line.split()\n",
        "    word = records[0]\n",
        "    vector_dimensions = asarray(records[1:], dtype='float32')\n",
        "    embeddings_dictionary [word] = vector_dimensions\n",
        "glove_file.close()"
      ]
    },
    {
      "cell_type": "code",
      "execution_count": null,
      "metadata": {
        "id": "ZN6SP61FSDZB"
      },
      "outputs": [],
      "source": [
        "# Create Embedding Matrix having 100 columns \n",
        "# Containing 100-dimensional GloVe word embeddings for all unique words in our corpus.\n",
        "\n",
        "embedding_matrix = zeros((vocab_length, 100))\n",
        "for word, index in word_tokenizer.word_index.items():\n",
        "    embedding_vector = embeddings_dictionary.get(word)\n",
        "    if embedding_vector is not None:\n",
        "        embedding_matrix[index] = embedding_vector"
      ]
    },
    {
      "attachments": {},
      "cell_type": "markdown",
      "metadata": {
        "id": "HMulFBC4SfAY"
      },
      "source": [
        "##Training with CNN"
      ]
    },
    {
      "cell_type": "code",
      "execution_count": null,
      "metadata": {
        "id": "CzNlGNGGUhVx"
      },
      "outputs": [],
      "source": [
        "from keras.layers import Conv1D\n",
        "from keras.layers import Flatten, GlobalMaxPooling1D, Embedding, Conv1D, LSTM"
      ]
    },
    {
      "cell_type": "code",
      "execution_count": null,
      "metadata": {
        "id": "kbVF6c4ASgUs"
      },
      "outputs": [],
      "source": [
        "# Defining Model Architecture\n",
        "\n",
        "cnn_model = Sequential()\n",
        "\n",
        "embedding_layer = Embedding(vocab_length, 100, weights=[embedding_matrix], input_length=maxlen , trainable=False)\n",
        "cnn_model.add(embedding_layer)\n",
        "\n",
        "cnn_model.add(Conv1D(128, 5, activation='relu'))\n",
        "cnn_model.add(GlobalMaxPooling1D())\n",
        "cnn_model.add(Dense(1, activation='sigmoid'))"
      ]
    },
    {
      "cell_type": "code",
      "execution_count": null,
      "metadata": {
        "colab": {
          "base_uri": "https://localhost:8080/"
        },
        "id": "XayF5sTqSlP_",
        "outputId": "4e1d65ec-a328-415a-8a23-11fbe52b566f"
      },
      "outputs": [
        {
          "name": "stdout",
          "output_type": "stream",
          "text": [
            "Model: \"sequential\"\n",
            "_________________________________________________________________\n",
            " Layer (type)                Output Shape              Param #   \n",
            "=================================================================\n",
            " embedding (Embedding)       (None, 100, 100)          1709300   \n",
            "                                                                 \n",
            " conv1d (Conv1D)             (None, 96, 128)           64128     \n",
            "                                                                 \n",
            " global_max_pooling1d (Globa  (None, 128)              0         \n",
            " lMaxPooling1D)                                                  \n",
            "                                                                 \n",
            " dense (Dense)               (None, 1)                 129       \n",
            "                                                                 \n",
            "=================================================================\n",
            "Total params: 1,773,557\n",
            "Trainable params: 64,257\n",
            "Non-trainable params: 1,709,300\n",
            "_________________________________________________________________\n",
            "None\n"
          ]
        }
      ],
      "source": [
        "# Model Compiling\n",
        "\n",
        "cnn_model.compile(optimizer='adam', loss='binary_crossentropy', metrics=['acc'])\n",
        "print(cnn_model.summary())"
      ]
    },
    {
      "cell_type": "code",
      "execution_count": null,
      "metadata": {
        "colab": {
          "base_uri": "https://localhost:8080/"
        },
        "id": "AaF5Rc6GSnDY",
        "outputId": "02d90437-c987-4e0b-dd75-5e9d55808c80"
      },
      "outputs": [
        {
          "name": "stdout",
          "output_type": "stream",
          "text": [
            "Epoch 1/20\n",
            "154/154 [==============================] - 19s 96ms/step - loss: 0.5082 - acc: 0.7698 - val_loss: 0.4880 - val_acc: 0.7704\n",
            "Epoch 2/20\n",
            "154/154 [==============================] - 8s 49ms/step - loss: 0.3985 - acc: 0.8275 - val_loss: 0.4342 - val_acc: 0.8124\n",
            "Epoch 3/20\n",
            "154/154 [==============================] - 10s 64ms/step - loss: 0.3400 - acc: 0.8587 - val_loss: 0.4216 - val_acc: 0.8220\n",
            "Epoch 4/20\n",
            "154/154 [==============================] - 8s 53ms/step - loss: 0.2915 - acc: 0.8845 - val_loss: 0.4151 - val_acc: 0.8277\n",
            "Epoch 5/20\n",
            "154/154 [==============================] - 9s 60ms/step - loss: 0.2361 - acc: 0.9189 - val_loss: 0.4445 - val_acc: 0.8248\n",
            "Epoch 6/20\n",
            "154/154 [==============================] - 10s 65ms/step - loss: 0.1902 - acc: 0.9436 - val_loss: 0.4383 - val_acc: 0.8267\n",
            "Epoch 7/20\n",
            "154/154 [==============================] - 8s 49ms/step - loss: 0.1519 - acc: 0.9626 - val_loss: 0.4429 - val_acc: 0.8243\n"
          ]
        }
      ],
      "source": [
        "# Model Training\n",
        "\n",
        "early_stopping = EarlyStopping(patience=3, restore_best_weights=True)\n",
        "cnn_model_history = cnn_model.fit(X_train, y_train, validation_data=(X_val, y_val), batch_size=64, epochs=20, verbose=1, callbacks=[early_stopping])"
      ]
    },
    {
      "cell_type": "code",
      "execution_count": null,
      "metadata": {
        "colab": {
          "base_uri": "https://localhost:8080/"
        },
        "id": "fTqK3hr6VNUi",
        "outputId": "efb6c747-2f69-4b94-9296-0bd3c7d48a56"
      },
      "outputs": [
        {
          "name": "stdout",
          "output_type": "stream",
          "text": [
            "66/66 [==============================] - 1s 11ms/step - loss: 0.4241 - acc: 0.8205\n"
          ]
        }
      ],
      "source": [
        "# Predictions on the Test Set\n",
        "\n",
        "score = cnn_model.evaluate(X_test, y_test, verbose=1)"
      ]
    },
    {
      "cell_type": "code",
      "execution_count": null,
      "metadata": {
        "colab": {
          "base_uri": "https://localhost:8080/",
          "height": 484
        },
        "id": "bQhafHPmSvpG",
        "outputId": "c1c240af-a401-46ff-9102-1fc2b0b5f6ae"
      },
      "outputs": [
        {
          "name": "stdout",
          "output_type": "stream",
          "text": [
            "66/66 [==============================] - 1s 17ms/step\n"
          ]
        },
        {
          "data": {
            "text/plain": [
              "Text(50.722222222222214, 0.5, 'Truth')"
            ]
          },
          "execution_count": 24,
          "metadata": {},
          "output_type": "execute_result"
        },
        {
          "data": {
            "image/png": "[encoded data removed]",
            "text/plain": [
              "<Figure size 640x480 with 2 Axes>"
            ]
          },
          "metadata": {},
          "output_type": "display_data"
        }
      ],
      "source": [
        "# Model Performance\n",
        "\n",
        "from sklearn.metrics import confusion_matrix, classification_report\n",
        "import sys\n",
        "import numpy as np\n",
        "\n",
        "np.set_printoptions(threshold=sys.maxsize)\n",
        "y_pred = cnn_model.predict(X_test)\n",
        "y_pred = y_pred.flatten()\n",
        "y_pred = np.where(y_pred > 0.5, 1, 0)\n",
        "\n",
        "cm=confusion_matrix(y_test,y_pred)\n",
        "sn.heatmap(cm, annot=True, fmt='d')\n",
        "plt.xlabel('Predicted')\n",
        "plt.ylabel('Truth')\n"
      ]
    },
    {
      "cell_type": "code",
      "execution_count": null,
      "metadata": {
        "colab": {
          "base_uri": "https://localhost:8080/"
        },
        "id": "4iwSJ3l4aTHE",
        "outputId": "6af8dd21-1c5e-40d1-a4d4-97e34df0930f"
      },
      "outputs": [
        {
          "name": "stdout",
          "output_type": "stream",
          "text": [
            "              precision    recall  f1-score   support\n",
            "\n",
            "           0       0.84      0.94      0.89      1585\n",
            "           1       0.70      0.46      0.56       515\n",
            "\n",
            "    accuracy                           0.82      2100\n",
            "   macro avg       0.77      0.70      0.72      2100\n",
            "weighted avg       0.81      0.82      0.81      2100\n",
            "\n"
          ]
        }
      ],
      "source": [
        "print(classification_report(y_test,y_pred))"
      ]
    },
    {
      "attachments": {},
      "cell_type": "markdown",
      "metadata": {
        "id": "2QTts_XPS1Wn"
      },
      "source": [
        "## Training with Bidirectional LSTM\n"
      ]
    },
    {
      "cell_type": "code",
      "execution_count": null,
      "metadata": {
        "id": "1iLtWqoMVwU5"
      },
      "outputs": [],
      "source": [
        "from keras.layers import LSTM\n",
        "from tensorflow.keras.layers import Embedding, LSTM, Bidirectional, Dense"
      ]
    },
    {
      "cell_type": "code",
      "execution_count": null,
      "metadata": {
        "id": "IwRRmufGvcZF"
      },
      "outputs": [],
      "source": [
        "# Defining Model Architecture\n",
        "\n",
        "lstm_model = Sequential()\n",
        "embedding_layer = Embedding(vocab_length, 100, weights=[embedding_matrix], input_length=maxlen, trainable=False)\n",
        "\n",
        "lstm_model.add(embedding_layer)\n",
        "lstm_model.add(Bidirectional(LSTM(128,activation='relu')))\n",
        "\n",
        "lstm_model.add(Dense(1, activation='sigmoid'))"
      ]
    },
    {
      "cell_type": "code",
      "execution_count": null,
      "metadata": {
        "colab": {
          "base_uri": "https://localhost:8080/"
        },
        "id": "Zk00Ss9HS68g",
        "outputId": "344b6fba-3e02-430f-dc09-3babf23cbb72"
      },
      "outputs": [
        {
          "name": "stdout",
          "output_type": "stream",
          "text": [
            "Model: \"sequential_1\"\n",
            "_________________________________________________________________\n",
            " Layer (type)                Output Shape              Param #   \n",
            "=================================================================\n",
            " embedding_1 (Embedding)     (None, 100, 100)          1709300   \n",
            "                                                                 \n",
            " bidirectional (Bidirectiona  (None, 256)              234496    \n",
            " l)                                                              \n",
            "                                                                 \n",
            " dense_1 (Dense)             (None, 1)                 257       \n",
            "                                                                 \n",
            "=================================================================\n",
            "Total params: 1,944,053\n",
            "Trainable params: 234,753\n",
            "Non-trainable params: 1,709,300\n",
            "_________________________________________________________________\n",
            "None\n"
          ]
        }
      ],
      "source": [
        "# Model Compiling\n",
        "\n",
        "lstm_model.compile(optimizer='adam', loss='binary_crossentropy', metrics=['acc'])\n",
        "print(lstm_model.summary())"
      ]
    },
    {
      "cell_type": "code",
      "execution_count": null,
      "metadata": {
        "colab": {
          "base_uri": "https://localhost:8080/"
        },
        "id": "QMhhaZUaS9jF",
        "outputId": "ce1851e1-c7ca-409a-d11e-c7395dfa47b7"
      },
      "outputs": [
        {
          "name": "stdout",
          "output_type": "stream",
          "text": [
            "Epoch 1/20\n",
            "154/154 [==============================] - 90s 562ms/step - loss: 1.1762 - acc: 0.7523 - val_loss: 0.5149 - val_acc: 0.7575\n",
            "Epoch 2/20\n",
            "154/154 [==============================] - 70s 456ms/step - loss: 0.9199 - acc: 0.7886 - val_loss: 0.4608 - val_acc: 0.8010\n",
            "Epoch 3/20\n",
            "154/154 [==============================] - 72s 470ms/step - loss: 0.4234 - acc: 0.8192 - val_loss: 0.4357 - val_acc: 0.8143\n",
            "Epoch 4/20\n",
            "154/154 [==============================] - 76s 495ms/step - loss: 0.3946 - acc: 0.8314 - val_loss: 0.4040 - val_acc: 0.8282\n",
            "Epoch 5/20\n",
            "154/154 [==============================] - 76s 494ms/step - loss: 0.3754 - acc: 0.8411 - val_loss: 0.4088 - val_acc: 0.8358\n",
            "Epoch 6/20\n",
            "154/154 [==============================] - 78s 504ms/step - loss: 0.3561 - acc: 0.8475 - val_loss: 0.3924 - val_acc: 0.8344\n",
            "Epoch 7/20\n",
            "154/154 [==============================] - 75s 489ms/step - loss: 0.4601 - acc: 0.8207 - val_loss: 0.4371 - val_acc: 0.8048\n",
            "Epoch 8/20\n",
            "154/154 [==============================] - 76s 491ms/step - loss: 0.3718 - acc: 0.8408 - val_loss: 0.4060 - val_acc: 0.8286\n",
            "Epoch 9/20\n",
            "154/154 [==============================] - 73s 478ms/step - loss: 0.3372 - acc: 0.8549 - val_loss: 0.4091 - val_acc: 0.8339\n"
          ]
        }
      ],
      "source": [
        "# Model Training\n",
        "\n",
        "early_stopping = EarlyStopping(patience=3, restore_best_weights=True)\n",
        "lstm_model_history = lstm_model.fit(X_train, y_train, validation_data=(X_val, y_val), batch_size=64, epochs=20, verbose=1, callbacks=[early_stopping])"
      ]
    },
    {
      "cell_type": "code",
      "execution_count": null,
      "metadata": {
        "colab": {
          "base_uri": "https://localhost:8080/"
        },
        "id": "w7il9EjzlAaR",
        "outputId": "573c7bba-ae49-4e79-b41f-88ad7d416233"
      },
      "outputs": [
        {
          "name": "stdout",
          "output_type": "stream",
          "text": [
            "66/66 [==============================] - 6s 87ms/step - loss: 0.4088 - acc: 0.8143\n"
          ]
        }
      ],
      "source": [
        "# Predictions on the Test Set\n",
        "\n",
        "score = lstm_model.evaluate(X_test, y_test, verbose=1)"
      ]
    },
    {
      "cell_type": "code",
      "execution_count": null,
      "metadata": {
        "colab": {
          "base_uri": "https://localhost:8080/",
          "height": 484
        },
        "id": "6j71n54zS9mc",
        "outputId": "9d93e830-087d-45a2-f63a-f5221f2734d1"
      },
      "outputs": [
        {
          "name": "stdout",
          "output_type": "stream",
          "text": [
            "66/66 [==============================] - 7s 108ms/step\n"
          ]
        },
        {
          "data": {
            "text/plain": [
              "Text(50.722222222222214, 0.5, 'Truth')"
            ]
          },
          "execution_count": 31,
          "metadata": {},
          "output_type": "execute_result"
        },
        {
          "data": {
            "image/png": "[encoded data removed]",
            "text/plain": [
              "<Figure size 640x480 with 2 Axes>"
            ]
          },
          "metadata": {},
          "output_type": "display_data"
        }
      ],
      "source": [
        "# Model Performance\n",
        "\n",
        "from sklearn.metrics import confusion_matrix, classification_report\n",
        "import sys\n",
        "import numpy as np\n",
        "\n",
        "np.set_printoptions(threshold=sys.maxsize)\n",
        "y_pred = lstm_model.predict(X_test)\n",
        "y_pred = y_pred.flatten()\n",
        "y_pred = np.where(y_pred > 0.5, 1, 0)\n",
        "\n",
        "cm=confusion_matrix(y_test,y_pred)\n",
        "sn.heatmap(cm, annot=True, fmt='d')\n",
        "plt.xlabel('Predicted')\n",
        "plt.ylabel('Truth')"
      ]
    },
    {
      "cell_type": "code",
      "execution_count": null,
      "metadata": {
        "colab": {
          "base_uri": "https://localhost:8080/"
        },
        "id": "7ienDjD2aV-O",
        "outputId": "1bd97b74-cc8d-4caa-985e-692ecaf20cad"
      },
      "outputs": [
        {
          "name": "stdout",
          "output_type": "stream",
          "text": [
            "              precision    recall  f1-score   support\n",
            "\n",
            "           0       0.85      0.92      0.88      1585\n",
            "           1       0.66      0.49      0.57       515\n",
            "\n",
            "    accuracy                           0.81      2100\n",
            "   macro avg       0.76      0.71      0.72      2100\n",
            "weighted avg       0.80      0.81      0.80      2100\n",
            "\n"
          ]
        }
      ],
      "source": [
        "print(classification_report(y_test,y_pred))"
      ]
    },
    {
      "attachments": {},
      "cell_type": "markdown",
      "metadata": {
        "id": "GFgIFlLIIUVy"
      },
      "source": [
        "## Training with GRU"
      ]
    },
    {
      "cell_type": "code",
      "execution_count": null,
      "metadata": {
        "id": "ozCgO_iR8XNa"
      },
      "outputs": [],
      "source": [
        "from keras.layers import GRU"
      ]
    },
    {
      "cell_type": "code",
      "execution_count": null,
      "metadata": {
        "id": "FXgGtv2V8YYr"
      },
      "outputs": [],
      "source": [
        "# Defining Model Architecture\n",
        "\n",
        "gru_model = Sequential()\n",
        "gru_model.add(Embedding(vocab_length, 100, weights=[embedding_matrix], input_length=maxlen, trainable=False))\n",
        "gru_model.add(GRU(256, activation='relu')),\n",
        "gru_model.add(Dense(1, activation='sigmoid'))"
      ]
    },
    {
      "cell_type": "code",
      "execution_count": null,
      "metadata": {
        "colab": {
          "base_uri": "https://localhost:8080/"
        },
        "id": "NQcC5cAt8ePr",
        "outputId": "6421ae7c-3677-4a7e-fa13-2870ded5b489"
      },
      "outputs": [
        {
          "name": "stdout",
          "output_type": "stream",
          "text": [
            "Model: \"sequential_3\"\n",
            "_________________________________________________________________\n",
            " Layer (type)                Output Shape              Param #   \n",
            "=================================================================\n",
            " embedding_3 (Embedding)     (None, 100, 100)          1709300   \n",
            "                                                                 \n",
            " gru_1 (GRU)                 (None, 256)               274944    \n",
            "                                                                 \n",
            " dense_3 (Dense)             (None, 1)                 257       \n",
            "                                                                 \n",
            "=================================================================\n",
            "Total params: 1,984,501\n",
            "Trainable params: 275,201\n",
            "Non-trainable params: 1,709,300\n",
            "_________________________________________________________________\n",
            "None\n"
          ]
        }
      ],
      "source": [
        "# Model Compiling\n",
        "\n",
        "gru_model.compile(loss='binary_crossentropy', optimizer='adam', metrics=['acc'])\n",
        "print(gru_model.summary())"
      ]
    },
    {
      "cell_type": "code",
      "execution_count": null,
      "metadata": {
        "colab": {
          "base_uri": "https://localhost:8080/"
        },
        "id": "Me0jwpre8k6j",
        "outputId": "b14bf4f7-d5bb-4a99-ac1e-71b971a2dd0b"
      },
      "outputs": [
        {
          "name": "stdout",
          "output_type": "stream",
          "text": [
            "Epoch 1/20\n",
            "154/154 [==============================] - 67s 424ms/step - loss: 0.6386 - acc: 0.7582 - val_loss: 0.5566 - val_acc: 0.7556\n",
            "Epoch 2/20\n",
            "154/154 [==============================] - 70s 452ms/step - loss: 0.5536 - acc: 0.7582 - val_loss: 0.5562 - val_acc: 0.7556\n",
            "Epoch 3/20\n",
            "154/154 [==============================] - 63s 408ms/step - loss: 0.5504 - acc: 0.7582 - val_loss: 0.5498 - val_acc: 0.7556\n",
            "Epoch 4/20\n",
            "154/154 [==============================] - 70s 456ms/step - loss: 0.5436 - acc: 0.7582 - val_loss: 0.5476 - val_acc: 0.7556\n",
            "Epoch 5/20\n",
            "154/154 [==============================] - 65s 424ms/step - loss: 0.5229 - acc: 0.7588 - val_loss: 0.4958 - val_acc: 0.7785\n",
            "Epoch 6/20\n",
            "154/154 [==============================] - 69s 445ms/step - loss: 0.4288 - acc: 0.8145 - val_loss: 0.4231 - val_acc: 0.8210\n",
            "Epoch 7/20\n",
            "154/154 [==============================] - 64s 415ms/step - loss: 0.4042 - acc: 0.8277 - val_loss: 0.4194 - val_acc: 0.8282\n",
            "Epoch 8/20\n",
            "154/154 [==============================] - 63s 410ms/step - loss: 0.3897 - acc: 0.8329 - val_loss: 0.4082 - val_acc: 0.8186\n",
            "Epoch 9/20\n",
            "154/154 [==============================] - 62s 404ms/step - loss: 0.3773 - acc: 0.8391 - val_loss: 0.3996 - val_acc: 0.8329\n",
            "Epoch 10/20\n",
            "154/154 [==============================] - 61s 400ms/step - loss: 0.3581 - acc: 0.8464 - val_loss: 0.4684 - val_acc: 0.8162\n",
            "Epoch 11/20\n",
            "154/154 [==============================] - 63s 410ms/step - loss: 0.3442 - acc: 0.8478 - val_loss: 0.4084 - val_acc: 0.8348\n",
            "Epoch 12/20\n",
            "154/154 [==============================] - 62s 401ms/step - loss: 0.3188 - acc: 0.8600 - val_loss: 0.4242 - val_acc: 0.8368\n"
          ]
        }
      ],
      "source": [
        "# Model Training\n",
        "\n",
        "early_stopping = EarlyStopping(patience=3, restore_best_weights=True)\n",
        "gru_model_history = gru_model.fit(X_train, y_train, validation_data=(X_val, y_val), batch_size=64, epochs=20, verbose=1, callbacks=[early_stopping])"
      ]
    },
    {
      "cell_type": "code",
      "execution_count": null,
      "metadata": {
        "colab": {
          "base_uri": "https://localhost:8080/"
        },
        "id": "Io3MwexX8mOX",
        "outputId": "0c5304d1-ad96-4591-e4c6-87aa09e87e2f"
      },
      "outputs": [
        {
          "name": "stdout",
          "output_type": "stream",
          "text": [
            "66/66 [==============================] - 6s 94ms/step - loss: 0.4112 - acc: 0.8252\n"
          ]
        }
      ],
      "source": [
        "# Predictions on the Test Set\n",
        "\n",
        "score = gru_model.evaluate(X_test, y_test, verbose=1)"
      ]
    },
    {
      "cell_type": "code",
      "execution_count": null,
      "metadata": {
        "colab": {
          "base_uri": "https://localhost:8080/",
          "height": 484
        },
        "id": "Rm5WZnE483JW",
        "outputId": "b1cfebad-6543-4b68-8003-74bb053eb04a"
      },
      "outputs": [
        {
          "name": "stdout",
          "output_type": "stream",
          "text": [
            "66/66 [==============================] - 7s 103ms/step\n"
          ]
        },
        {
          "data": {
            "text/plain": [
              "Text(50.722222222222214, 0.5, 'Truth')"
            ]
          },
          "execution_count": 45,
          "metadata": {},
          "output_type": "execute_result"
        },
        {
          "data": {
            "image/png": "[encoded data removed]",
            "text/plain": [
              "<Figure size 640x480 with 2 Axes>"
            ]
          },
          "metadata": {},
          "output_type": "display_data"
        }
      ],
      "source": [
        "# Model Performance\n",
        "\n",
        "from sklearn.metrics import confusion_matrix, classification_report\n",
        "import sys\n",
        "import numpy as np\n",
        "\n",
        "np.set_printoptions(threshold=sys.maxsize)\n",
        "y_pred = gru_model.predict(X_test)\n",
        "y_pred = y_pred.flatten()\n",
        "y_pred = np.where(y_pred > 0.5, 1, 0)\n",
        "\n",
        "cm=confusion_matrix(y_test,y_pred)\n",
        "sn.heatmap(cm, annot=True, fmt='d')\n",
        "plt.xlabel('Predicted')\n",
        "plt.ylabel('Truth')"
      ]
    },
    {
      "cell_type": "code",
      "execution_count": null,
      "metadata": {
        "colab": {
          "base_uri": "https://localhost:8080/"
        },
        "id": "o0jXfvSK84Q-",
        "outputId": "335e7fb4-d4c3-49fb-a745-d52651cdc5f1"
      },
      "outputs": [
        {
          "name": "stdout",
          "output_type": "stream",
          "text": [
            "              precision    recall  f1-score   support\n",
            "\n",
            "           0       0.85      0.94      0.89      1585\n",
            "           1       0.71      0.48      0.57       515\n",
            "\n",
            "    accuracy                           0.83      2100\n",
            "   macro avg       0.78      0.71      0.73      2100\n",
            "weighted avg       0.81      0.83      0.81      2100\n",
            "\n"
          ]
        }
      ],
      "source": [
        "print(classification_report(y_test,y_pred))"
      ]
    }
  ],
  "metadata": {
    "colab": {
      "provenance": []
    },
    "kernelspec": {
      "display_name": "Python 3 (ipykernel)",
      "language": "python",
      "name": "python3"
    },
    "language_info": {
      "codemirror_mode": {
        "name": "ipython",
        "version": 3
      },
      "file_extension": ".py",
      "mimetype": "text/x-python",
      "name": "python",
      "nbconvert_exporter": "python",
      "pygments_lexer": "ipython3",
      "version": "3.9.12"
    }
  },
  "nbformat": 4,
  "nbformat_minor": 0
}
